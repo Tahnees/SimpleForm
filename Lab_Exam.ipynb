{
  "nbformat": 4,
  "nbformat_minor": 0,
  "metadata": {
    "colab": {
      "provenance": [],
      "include_colab_link": true
    },
    "kernelspec": {
      "name": "python3",
      "display_name": "Python 3"
    },
    "language_info": {
      "name": "python"
    }
  },
  "cells": [
    {
      "cell_type": "markdown",
      "metadata": {
        "id": "view-in-github",
        "colab_type": "text"
      },
      "source": [
        "<a href=\"https://colab.research.google.com/github/Tahnees/SimpleForm/blob/main/Lab_Exam.ipynb\" target=\"_parent\"><img src=\"https://colab.research.google.com/assets/colab-badge.svg\" alt=\"Open In Colab\"/></a>"
      ]
    },
    {
      "cell_type": "markdown",
      "source": [
        "## **Quiz-2**"
      ],
      "metadata": {
        "id": "wKBOgALplcmv"
      }
    },
    {
      "cell_type": "markdown",
      "source": [
        "Perform following tasks on the provided Reviews Dataset.\n",
        "* Drop words if not alphabets.\n",
        "* Tokenize the sentence.\n",
        "* Perform lemitization.\n",
        "* Vectorize using bigram and trigram techniques.\n",
        "* Apply Random Forest algorithm with 150 trees.\n",
        "* Evaluate overall accuracy of the model and class-wise precision ."
      ],
      "metadata": {
        "id": "m5VxQWNuli1L"
      }
    },
    {
      "cell_type": "code",
      "source": [
        "import pandas as pd\n",
        "df = pd.read_csv('reviews_dataset.csv')"
      ],
      "metadata": {
        "id": "BBpfRVXzzQte"
      },
      "execution_count": 1,
      "outputs": []
    },
    {
      "cell_type": "code",
      "source": [
        "df.shape"
      ],
      "metadata": {
        "id": "V8zHDHHz0jSw",
        "outputId": "c98181b9-89b9-4e53-ed4e-a9c7e4e2205c",
        "colab": {
          "base_uri": "https://localhost:8080/"
        }
      },
      "execution_count": 2,
      "outputs": [
        {
          "output_type": "execute_result",
          "data": {
            "text/plain": [
              "(2225, 2)"
            ]
          },
          "metadata": {},
          "execution_count": 2
        }
      ]
    },
    {
      "cell_type": "code",
      "source": [
        "import re"
      ],
      "metadata": {
        "id": "dDFeYNTH-0-2"
      },
      "execution_count": 55,
      "outputs": []
    },
    {
      "cell_type": "code",
      "source": [
        "def remove_num(news):\n",
        "    pattern = re.compile(r'[1-9,0]')\n",
        "    return pattern.sub(r'', news)"
      ],
      "metadata": {
        "id": "vWZU_QNK-ryL"
      },
      "execution_count": 56,
      "outputs": []
    },
    {
      "cell_type": "code",
      "source": [
        "df['news'] = df['news'].apply(remove_num)"
      ],
      "metadata": {
        "id": "SvTLHCCR_7Fo"
      },
      "execution_count": 57,
      "outputs": []
    },
    {
      "cell_type": "code",
      "source": [
        "df['news']"
      ],
      "metadata": {
        "id": "6V4KCCoNAEjR",
        "outputId": "ea74b8c7-9ebc-4097-97b9-0c2ca5c91a94",
        "colab": {
          "base_uri": "https://localhost:8080/",
          "height": 458
        }
      },
      "execution_count": 54,
      "outputs": [
        {
          "output_type": "execute_result",
          "data": {
            "text/plain": [
              "0       China had role in Yukos split-up China lent Ru...\n",
              "1       Oil rebounds from weather effect Oil prices re...\n",
              "2       Indonesia 'declines debt freeze ' Indonesia no...\n",
              "3       $ m payoff for former Shell boss Shell is to p...\n",
              "4       US bank in $ m SEC settlement Five Bank of Ame...\n",
              "                              ...                        \n",
              "2220    Microsoft launches its own search Microsoft ha...\n",
              "2221    Warnings about junk mail deluge The amount of ...\n",
              "2222    Microsoft gets the blogging bug Software giant...\n",
              "2223    Gamers snap up new Sony PSP Gamers have bought...\n",
              "2224    Apple laptop is 'greatest gadget ' The Apple P...\n",
              "Name: news, Length: 2225, dtype: object"
            ],
            "text/html": [
              "<div>\n",
              "<style scoped>\n",
              "    .dataframe tbody tr th:only-of-type {\n",
              "        vertical-align: middle;\n",
              "    }\n",
              "\n",
              "    .dataframe tbody tr th {\n",
              "        vertical-align: top;\n",
              "    }\n",
              "\n",
              "    .dataframe thead th {\n",
              "        text-align: right;\n",
              "    }\n",
              "</style>\n",
              "<table border=\"1\" class=\"dataframe\">\n",
              "  <thead>\n",
              "    <tr style=\"text-align: right;\">\n",
              "      <th></th>\n",
              "      <th>news</th>\n",
              "    </tr>\n",
              "  </thead>\n",
              "  <tbody>\n",
              "    <tr>\n",
              "      <th>0</th>\n",
              "      <td>China had role in Yukos split-up China lent Ru...</td>\n",
              "    </tr>\n",
              "    <tr>\n",
              "      <th>1</th>\n",
              "      <td>Oil rebounds from weather effect Oil prices re...</td>\n",
              "    </tr>\n",
              "    <tr>\n",
              "      <th>2</th>\n",
              "      <td>Indonesia 'declines debt freeze ' Indonesia no...</td>\n",
              "    </tr>\n",
              "    <tr>\n",
              "      <th>3</th>\n",
              "      <td>$ m payoff for former Shell boss Shell is to p...</td>\n",
              "    </tr>\n",
              "    <tr>\n",
              "      <th>4</th>\n",
              "      <td>US bank in $ m SEC settlement Five Bank of Ame...</td>\n",
              "    </tr>\n",
              "    <tr>\n",
              "      <th>...</th>\n",
              "      <td>...</td>\n",
              "    </tr>\n",
              "    <tr>\n",
              "      <th>2220</th>\n",
              "      <td>Microsoft launches its own search Microsoft ha...</td>\n",
              "    </tr>\n",
              "    <tr>\n",
              "      <th>2221</th>\n",
              "      <td>Warnings about junk mail deluge The amount of ...</td>\n",
              "    </tr>\n",
              "    <tr>\n",
              "      <th>2222</th>\n",
              "      <td>Microsoft gets the blogging bug Software giant...</td>\n",
              "    </tr>\n",
              "    <tr>\n",
              "      <th>2223</th>\n",
              "      <td>Gamers snap up new Sony PSP Gamers have bought...</td>\n",
              "    </tr>\n",
              "    <tr>\n",
              "      <th>2224</th>\n",
              "      <td>Apple laptop is 'greatest gadget ' The Apple P...</td>\n",
              "    </tr>\n",
              "  </tbody>\n",
              "</table>\n",
              "<p>2225 rows × 1 columns</p>\n",
              "</div><br><label><b>dtype:</b> object</label>"
            ]
          },
          "metadata": {},
          "execution_count": 54
        }
      ]
    },
    {
      "cell_type": "code",
      "source": [
        "import nltk\n",
        "nltk.download('punkt_tab')\n",
        "from nltk.tokenize import word_tokenize,sent_tokenize"
      ],
      "metadata": {
        "id": "wTV1Ed471XpQ",
        "outputId": "815a2db0-e551-49bc-e569-607935ba86a9",
        "colab": {
          "base_uri": "https://localhost:8080/"
        }
      },
      "execution_count": 5,
      "outputs": [
        {
          "output_type": "stream",
          "name": "stderr",
          "text": [
            "[nltk_data] Downloading package punkt_tab to /root/nltk_data...\n",
            "[nltk_data]   Unzipping tokenizers/punkt_tab.zip.\n"
          ]
        }
      ]
    },
    {
      "cell_type": "code",
      "source": [
        "df['news'] = df['news'].apply(word_tokenize)"
      ],
      "metadata": {
        "id": "b2y_U_Av2psK"
      },
      "execution_count": null,
      "outputs": []
    },
    {
      "cell_type": "code",
      "source": [
        "df['news'][1]"
      ],
      "metadata": {
        "id": "qzgXo81V1gJj",
        "outputId": "e212c62e-0ead-4844-84a6-32978f0d9ad1",
        "colab": {
          "base_uri": "https://localhost:8080/"
        }
      },
      "execution_count": 11,
      "outputs": [
        {
          "output_type": "execute_result",
          "data": {
            "text/plain": [
              "['Oil',\n",
              " 'rebounds',\n",
              " 'from',\n",
              " 'weather',\n",
              " 'effect',\n",
              " 'Oil',\n",
              " 'prices',\n",
              " 'recovered',\n",
              " 'in',\n",
              " 'Asian',\n",
              " 'trade',\n",
              " 'on',\n",
              " 'Tuesday',\n",
              " ',',\n",
              " 'after',\n",
              " 'falling',\n",
              " 'in',\n",
              " 'New',\n",
              " 'York',\n",
              " 'on',\n",
              " 'milder',\n",
              " 'winter',\n",
              " 'weather',\n",
              " 'across',\n",
              " 'the',\n",
              " 'US',\n",
              " '.',\n",
              " 'With',\n",
              " 'winter',\n",
              " 'temperatures',\n",
              " 'staying',\n",
              " 'relatively',\n",
              " 'high',\n",
              " 'in',\n",
              " 'the',\n",
              " 'northern',\n",
              " 'US',\n",
              " ',',\n",
              " 'a',\n",
              " 'barrel',\n",
              " 'of',\n",
              " 'light',\n",
              " 'crude',\n",
              " 'ended',\n",
              " 'Monday',\n",
              " 'down',\n",
              " '$',\n",
              " '1.33',\n",
              " 'to',\n",
              " '$',\n",
              " '42.12',\n",
              " '.',\n",
              " 'However',\n",
              " 'crude',\n",
              " 'prices',\n",
              " 'have',\n",
              " 'rebounded',\n",
              " 'in',\n",
              " 'Asia',\n",
              " ',',\n",
              " 'rising',\n",
              " 'to',\n",
              " '$',\n",
              " '42.30',\n",
              " 'a',\n",
              " 'barrel',\n",
              " 'for',\n",
              " 'February',\n",
              " 'delivery',\n",
              " '.',\n",
              " 'In',\n",
              " 'London',\n",
              " ',',\n",
              " 'trading',\n",
              " 'of',\n",
              " 'Brent',\n",
              " 'crude',\n",
              " 'was',\n",
              " 'suspended',\n",
              " 'for',\n",
              " 'a',\n",
              " 'public',\n",
              " 'holiday',\n",
              " ',',\n",
              " 'but',\n",
              " 'the',\n",
              " 'price',\n",
              " 'fell',\n",
              " 'to',\n",
              " '$',\n",
              " '39.20',\n",
              " 'in',\n",
              " 'the',\n",
              " 'Far',\n",
              " 'East',\n",
              " '.',\n",
              " 'With',\n",
              " 'milder',\n",
              " 'temperatures',\n",
              " 'expected',\n",
              " 'to',\n",
              " 'continue',\n",
              " 'in',\n",
              " 'the',\n",
              " 'northern',\n",
              " 'parts',\n",
              " 'of',\n",
              " 'the',\n",
              " 'US',\n",
              " 'over',\n",
              " 'the',\n",
              " 'next',\n",
              " 'few',\n",
              " 'days',\n",
              " 'at',\n",
              " 'least',\n",
              " ',',\n",
              " 'analysts',\n",
              " 'have',\n",
              " 'said',\n",
              " 'the',\n",
              " 'price',\n",
              " 'of',\n",
              " 'oil',\n",
              " 'may',\n",
              " 'fall',\n",
              " 'further',\n",
              " '-',\n",
              " 'even',\n",
              " 'if',\n",
              " 'the',\n",
              " 'decline',\n",
              " 'was',\n",
              " 'only',\n",
              " 'temporary',\n",
              " '.',\n",
              " '``',\n",
              " 'Weather',\n",
              " 'has',\n",
              " 'been',\n",
              " 'the',\n",
              " 'Achilles',\n",
              " \"'\",\n",
              " 'heel',\n",
              " 'of',\n",
              " 'this',\n",
              " 'market',\n",
              " ',',\n",
              " \"''\",\n",
              " 'said',\n",
              " 'ABN',\n",
              " 'AMRO',\n",
              " 'analyst',\n",
              " 'John',\n",
              " 'Brady',\n",
              " '.',\n",
              " '``',\n",
              " 'But',\n",
              " 'it',\n",
              " 'is',\n",
              " 'winter',\n",
              " 'in',\n",
              " 'the',\n",
              " 'northeast',\n",
              " '.',\n",
              " 'Eventually',\n",
              " 'we',\n",
              " \"'ll\",\n",
              " 'get',\n",
              " 'another',\n",
              " 'cold',\n",
              " 'blast',\n",
              " '.',\n",
              " \"''\",\n",
              " 'Despite',\n",
              " 'a',\n",
              " 'fall',\n",
              " 'of',\n",
              " 'more',\n",
              " 'than',\n",
              " '$',\n",
              " '12',\n",
              " 'a',\n",
              " 'barrel',\n",
              " 'from',\n",
              " 'the',\n",
              " 'record',\n",
              " 'highs',\n",
              " 'reached',\n",
              " 'in',\n",
              " 'late',\n",
              " 'October',\n",
              " ',',\n",
              " 'the',\n",
              " 'price',\n",
              " 'of',\n",
              " 'crude',\n",
              " 'oil',\n",
              " 'remains',\n",
              " 'almost',\n",
              " '30',\n",
              " '%',\n",
              " 'higher',\n",
              " 'than',\n",
              " 'year-ago',\n",
              " 'levels',\n",
              " '.',\n",
              " 'Prices',\n",
              " 'rose',\n",
              " 'last',\n",
              " 'week',\n",
              " 'after',\n",
              " 'militant',\n",
              " 'attacks',\n",
              " 'in',\n",
              " 'Riyadh',\n",
              " ',',\n",
              " 'the',\n",
              " 'capital',\n",
              " 'of',\n",
              " 'Saudi',\n",
              " 'Arabia',\n",
              " ',',\n",
              " 'briefly',\n",
              " 'renewed',\n",
              " 'fears',\n",
              " 'that',\n",
              " 'the',\n",
              " 'supply',\n",
              " 'chain',\n",
              " 'might',\n",
              " 'be',\n",
              " 'broken',\n",
              " 'in',\n",
              " 'the',\n",
              " 'world',\n",
              " \"'s\",\n",
              " 'leading',\n",
              " 'crude',\n",
              " 'exporter',\n",
              " '.',\n",
              " '``',\n",
              " 'The',\n",
              " 'market',\n",
              " 'was',\n",
              " 'panicked',\n",
              " 'but',\n",
              " 'fears',\n",
              " 'essentially',\n",
              " 'evaporated',\n",
              " '...',\n",
              " 'since',\n",
              " 'there',\n",
              " 'was',\n",
              " 'no',\n",
              " 'follow-up',\n",
              " ',',\n",
              " \"''\",\n",
              " 'said',\n",
              " 'Deborah',\n",
              " 'White',\n",
              " ',',\n",
              " 'senior',\n",
              " 'economist',\n",
              " 'for',\n",
              " 'energy',\n",
              " 'at',\n",
              " 'SG',\n",
              " 'Securities',\n",
              " 'in',\n",
              " 'Paris',\n",
              " '.']"
            ]
          },
          "metadata": {},
          "execution_count": 11
        }
      ]
    },
    {
      "cell_type": "code",
      "source": [
        "df['news']"
      ],
      "metadata": {
        "id": "m68NCQL81zTu",
        "outputId": "10fe95d0-7e3b-4b15-da41-17181ff53e34",
        "colab": {
          "base_uri": "https://localhost:8080/",
          "height": 458
        }
      },
      "execution_count": 13,
      "outputs": [
        {
          "output_type": "execute_result",
          "data": {
            "text/plain": [
              "0       [China, had, role, in, Yukos, split-up, China,...\n",
              "1       [Oil, rebounds, from, weather, effect, Oil, pr...\n",
              "2       [Indonesia, 'declines, debt, freeze, ', Indone...\n",
              "3       [$, 1m, payoff, for, former, Shell, boss, Shel...\n",
              "4       [US, bank, in, $, 515m, SEC, settlement, Five,...\n",
              "                              ...                        \n",
              "2220    [Microsoft, launches, its, own, search, Micros...\n",
              "2221    [Warnings, about, junk, mail, deluge, The, amo...\n",
              "2222    [Microsoft, gets, the, blogging, bug, Software...\n",
              "2223    [Gamers, snap, up, new, Sony, PSP, Gamers, hav...\n",
              "2224    [Apple, laptop, is, 'greatest, gadget, ', The,...\n",
              "Name: news, Length: 2225, dtype: object"
            ],
            "text/html": [
              "<div>\n",
              "<style scoped>\n",
              "    .dataframe tbody tr th:only-of-type {\n",
              "        vertical-align: middle;\n",
              "    }\n",
              "\n",
              "    .dataframe tbody tr th {\n",
              "        vertical-align: top;\n",
              "    }\n",
              "\n",
              "    .dataframe thead th {\n",
              "        text-align: right;\n",
              "    }\n",
              "</style>\n",
              "<table border=\"1\" class=\"dataframe\">\n",
              "  <thead>\n",
              "    <tr style=\"text-align: right;\">\n",
              "      <th></th>\n",
              "      <th>news</th>\n",
              "    </tr>\n",
              "  </thead>\n",
              "  <tbody>\n",
              "    <tr>\n",
              "      <th>0</th>\n",
              "      <td>[China, had, role, in, Yukos, split-up, China,...</td>\n",
              "    </tr>\n",
              "    <tr>\n",
              "      <th>1</th>\n",
              "      <td>[Oil, rebounds, from, weather, effect, Oil, pr...</td>\n",
              "    </tr>\n",
              "    <tr>\n",
              "      <th>2</th>\n",
              "      <td>[Indonesia, 'declines, debt, freeze, ', Indone...</td>\n",
              "    </tr>\n",
              "    <tr>\n",
              "      <th>3</th>\n",
              "      <td>[$, 1m, payoff, for, former, Shell, boss, Shel...</td>\n",
              "    </tr>\n",
              "    <tr>\n",
              "      <th>4</th>\n",
              "      <td>[US, bank, in, $, 515m, SEC, settlement, Five,...</td>\n",
              "    </tr>\n",
              "    <tr>\n",
              "      <th>...</th>\n",
              "      <td>...</td>\n",
              "    </tr>\n",
              "    <tr>\n",
              "      <th>2220</th>\n",
              "      <td>[Microsoft, launches, its, own, search, Micros...</td>\n",
              "    </tr>\n",
              "    <tr>\n",
              "      <th>2221</th>\n",
              "      <td>[Warnings, about, junk, mail, deluge, The, amo...</td>\n",
              "    </tr>\n",
              "    <tr>\n",
              "      <th>2222</th>\n",
              "      <td>[Microsoft, gets, the, blogging, bug, Software...</td>\n",
              "    </tr>\n",
              "    <tr>\n",
              "      <th>2223</th>\n",
              "      <td>[Gamers, snap, up, new, Sony, PSP, Gamers, hav...</td>\n",
              "    </tr>\n",
              "    <tr>\n",
              "      <th>2224</th>\n",
              "      <td>[Apple, laptop, is, 'greatest, gadget, ', The,...</td>\n",
              "    </tr>\n",
              "  </tbody>\n",
              "</table>\n",
              "<p>2225 rows × 1 columns</p>\n",
              "</div><br><label><b>dtype:</b> object</label>"
            ]
          },
          "metadata": {},
          "execution_count": 13
        }
      ]
    },
    {
      "cell_type": "code",
      "source": [
        "import nltk\n",
        "nltk.download('wordnet')\n",
        "from nltk.stem import WordNetLemmatizer\n",
        "lemmitizer = WordNetLemmatizer()\n",
        "def lemmitize_words(text):\n",
        "    return \" \".join([lemmitizer.lemmatize(word,pos='v') for word in text.split()])"
      ],
      "metadata": {
        "id": "oxsAifLz3F_O",
        "outputId": "e3497b54-0e64-4d16-a617-1dd9e2ccdee2",
        "colab": {
          "base_uri": "https://localhost:8080/"
        }
      },
      "execution_count": 14,
      "outputs": [
        {
          "output_type": "stream",
          "name": "stderr",
          "text": [
            "[nltk_data] Downloading package wordnet to /root/nltk_data...\n"
          ]
        }
      ]
    },
    {
      "cell_type": "code",
      "source": [
        "sent_1=\"Asian banks halt dollar's slide The dollar regained some lost ground against most major currencies on Wednesday after South Korea and Japan denied they were planning a sell-off.\"\n",
        "lemmitize_words(sent_1)"
      ],
      "metadata": {
        "id": "_87BPrFY3QAf",
        "outputId": "9d9cc85f-0d91-487a-e971-87c9f6e9a3af",
        "colab": {
          "base_uri": "https://localhost:8080/",
          "height": 53
        }
      },
      "execution_count": 15,
      "outputs": [
        {
          "output_type": "execute_result",
          "data": {
            "text/plain": [
              "\"Asian bank halt dollar's slide The dollar regain some lose grind against most major currencies on Wednesday after South Korea and Japan deny they be plan a sell-off.\""
            ],
            "application/vnd.google.colaboratory.intrinsic+json": {
              "type": "string"
            }
          },
          "metadata": {},
          "execution_count": 15
        }
      ]
    },
    {
      "cell_type": "code",
      "source": [
        "def lemmatize_words(tokens):\n",
        "    return [lemmitizer.lemmatize(word,pos='v') for word in tokens]\n",
        "    #return \" \".join([lemmatizer.lemmatize(word) for word in tokens])\n",
        "\n",
        "# Lemmatizing the tokenized words in the 'review' column\n",
        "df['lemmatized_nwes'] = df['news'].apply(lemmatize_words)"
      ],
      "metadata": {
        "id": "29LEYpXF4A-A"
      },
      "execution_count": 19,
      "outputs": []
    },
    {
      "cell_type": "code",
      "source": [
        "df['news']"
      ],
      "metadata": {
        "id": "EchQr9064aQO",
        "outputId": "b62bbfe1-9370-41ce-e797-8090ab7af394",
        "colab": {
          "base_uri": "https://localhost:8080/",
          "height": 458
        }
      },
      "execution_count": 20,
      "outputs": [
        {
          "output_type": "execute_result",
          "data": {
            "text/plain": [
              "0       [China, had, role, in, Yukos, split-up, China,...\n",
              "1       [Oil, rebounds, from, weather, effect, Oil, pr...\n",
              "2       [Indonesia, 'declines, debt, freeze, ', Indone...\n",
              "3       [$, 1m, payoff, for, former, Shell, boss, Shel...\n",
              "4       [US, bank, in, $, 515m, SEC, settlement, Five,...\n",
              "                              ...                        \n",
              "2220    [Microsoft, launches, its, own, search, Micros...\n",
              "2221    [Warnings, about, junk, mail, deluge, The, amo...\n",
              "2222    [Microsoft, gets, the, blogging, bug, Software...\n",
              "2223    [Gamers, snap, up, new, Sony, PSP, Gamers, hav...\n",
              "2224    [Apple, laptop, is, 'greatest, gadget, ', The,...\n",
              "Name: news, Length: 2225, dtype: object"
            ],
            "text/html": [
              "<div>\n",
              "<style scoped>\n",
              "    .dataframe tbody tr th:only-of-type {\n",
              "        vertical-align: middle;\n",
              "    }\n",
              "\n",
              "    .dataframe tbody tr th {\n",
              "        vertical-align: top;\n",
              "    }\n",
              "\n",
              "    .dataframe thead th {\n",
              "        text-align: right;\n",
              "    }\n",
              "</style>\n",
              "<table border=\"1\" class=\"dataframe\">\n",
              "  <thead>\n",
              "    <tr style=\"text-align: right;\">\n",
              "      <th></th>\n",
              "      <th>news</th>\n",
              "    </tr>\n",
              "  </thead>\n",
              "  <tbody>\n",
              "    <tr>\n",
              "      <th>0</th>\n",
              "      <td>[China, had, role, in, Yukos, split-up, China,...</td>\n",
              "    </tr>\n",
              "    <tr>\n",
              "      <th>1</th>\n",
              "      <td>[Oil, rebounds, from, weather, effect, Oil, pr...</td>\n",
              "    </tr>\n",
              "    <tr>\n",
              "      <th>2</th>\n",
              "      <td>[Indonesia, 'declines, debt, freeze, ', Indone...</td>\n",
              "    </tr>\n",
              "    <tr>\n",
              "      <th>3</th>\n",
              "      <td>[$, 1m, payoff, for, former, Shell, boss, Shel...</td>\n",
              "    </tr>\n",
              "    <tr>\n",
              "      <th>4</th>\n",
              "      <td>[US, bank, in, $, 515m, SEC, settlement, Five,...</td>\n",
              "    </tr>\n",
              "    <tr>\n",
              "      <th>...</th>\n",
              "      <td>...</td>\n",
              "    </tr>\n",
              "    <tr>\n",
              "      <th>2220</th>\n",
              "      <td>[Microsoft, launches, its, own, search, Micros...</td>\n",
              "    </tr>\n",
              "    <tr>\n",
              "      <th>2221</th>\n",
              "      <td>[Warnings, about, junk, mail, deluge, The, amo...</td>\n",
              "    </tr>\n",
              "    <tr>\n",
              "      <th>2222</th>\n",
              "      <td>[Microsoft, gets, the, blogging, bug, Software...</td>\n",
              "    </tr>\n",
              "    <tr>\n",
              "      <th>2223</th>\n",
              "      <td>[Gamers, snap, up, new, Sony, PSP, Gamers, hav...</td>\n",
              "    </tr>\n",
              "    <tr>\n",
              "      <th>2224</th>\n",
              "      <td>[Apple, laptop, is, 'greatest, gadget, ', The,...</td>\n",
              "    </tr>\n",
              "  </tbody>\n",
              "</table>\n",
              "<p>2225 rows × 1 columns</p>\n",
              "</div><br><label><b>dtype:</b> object</label>"
            ]
          },
          "metadata": {},
          "execution_count": 20
        }
      ]
    },
    {
      "cell_type": "code",
      "source": [
        "\n",
        "from sklearn.model_selection import train_test_split\n",
        "from sklearn.feature_extraction.text import CountVectorizer\n",
        "from sklearn.ensemble import RandomForestClassifier\n",
        "from sklearn.metrics import accuracy_score,confusion_matrix"
      ],
      "metadata": {
        "id": "awU5DfSi5Bxn"
      },
      "execution_count": 33,
      "outputs": []
    },
    {
      "cell_type": "code",
      "source": [
        "cv = CountVectorizer(ngram_range=(2,2))\n",
        "X = df['lemmatized_nwes'].astype(str)\n",
        "Y = df['type']\n",
        "X_train,X_test,y_train,y_test = train_test_split(X,Y,test_size=0.2,random_state=42)\n",
        "\n",
        "print(X_train.shape)\n",
        "\n",
        "vectorizer = CountVectorizer()\n",
        "X_train_n_gram = cv.fit_transform(X_train)\n",
        "X_test_n_gram = cv.transform(X_test)\n",
        "\n",
        "# Output the shapes of the resulting Bag of Words matrices\n",
        "print(f\"Shape of X_train_bow: {X_train_n_gram.shape}\")\n",
        "print(f\"Shape of X_test_bow: {X_test_n_gram.shape}\")\n"
      ],
      "metadata": {
        "id": "v3FSVC0C4u3J",
        "outputId": "fc964b00-f4e8-4ec6-94b7-b7f183f3804b",
        "colab": {
          "base_uri": "https://localhost:8080/"
        }
      },
      "execution_count": 36,
      "outputs": [
        {
          "output_type": "stream",
          "name": "stdout",
          "text": [
            "(1780,)\n",
            "Shape of X_train_bow: (1780, 257079)\n",
            "Shape of X_test_bow: (445, 257079)\n"
          ]
        }
      ]
    },
    {
      "cell_type": "code",
      "source": [
        "cv = CountVectorizer(ngram_range=(3,3))\n",
        "X = df['lemmatized_nwes'].astype(str)\n",
        "Y = df['type']\n",
        "X_train,X_test,y_train,y_test = train_test_split(X,Y,test_size=0.2,random_state=42)\n",
        "\n",
        "print(X_train.shape)\n",
        "\n",
        "vectorizer = CountVectorizer()\n",
        "X_train_n_gram = cv.fit_transform(X_train)\n",
        "X_test_n_gram = cv.transform(X_test)\n",
        "\n",
        "# Output the shapes of the resulting Bag of Words matrices\n",
        "print(f\"Shape of X_train_bow: {X_train_n_gram.shape}\")\n",
        "print(f\"Shape of X_test_bow: {X_test_n_gram.shape}\")"
      ],
      "metadata": {
        "id": "9F2laOHG70E2",
        "outputId": "a275956f-df9d-429e-90ed-2838e6dd26e6",
        "colab": {
          "base_uri": "https://localhost:8080/"
        }
      },
      "execution_count": 38,
      "outputs": [
        {
          "output_type": "stream",
          "name": "stdout",
          "text": [
            "(1780,)\n",
            "Shape of X_train_bow: (1780, 495758)\n",
            "Shape of X_test_bow: (445, 495758)\n"
          ]
        }
      ]
    },
    {
      "cell_type": "code",
      "source": [
        "rf = RandomForestClassifier()\n",
        "\n",
        "rf.fit(X_train_n_gram,y_train)\n",
        "y_pred = rf.predict(X_test_n_gram)\n",
        "\n",
        "print (\"Accuracy\",accuracy_score(y_test,y_pred))\n",
        "print (confusion_matrix(y_test,y_pred))"
      ],
      "metadata": {
        "id": "hQmhOV487n11",
        "outputId": "0cd84366-4ac8-4788-cde8-f5a93e6980b9",
        "colab": {
          "base_uri": "https://localhost:8080/"
        }
      },
      "execution_count": 39,
      "outputs": [
        {
          "output_type": "stream",
          "name": "stdout",
          "text": [
            "Accuracy 0.7752808988764045\n",
            "[[ 91   2   5  16   1]\n",
            " [  8  39   0  25   0]\n",
            " [  1   0  62  11   2]\n",
            " [  0   0   0 102   0]\n",
            " [ 12   3   0  14  51]]\n"
          ]
        }
      ]
    }
  ]
}